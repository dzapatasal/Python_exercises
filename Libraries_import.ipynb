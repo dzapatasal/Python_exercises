{
  "nbformat": 4,
  "nbformat_minor": 0,
  "metadata": {
    "colab": {
      "provenance": [],
      "authorship_tag": "ABX9TyNnZ8pHGMvM6ZTz9TGNwLpM",
      "include_colab_link": true
    },
    "kernelspec": {
      "name": "python3",
      "display_name": "Python 3"
    },
    "language_info": {
      "name": "python"
    }
  },
  "cells": [
    {
      "cell_type": "markdown",
      "metadata": {
        "id": "view-in-github",
        "colab_type": "text"
      },
      "source": [
        "<a href=\"https://colab.research.google.com/github/dzapatasal/Python_exercises/blob/main/Libraries_import.ipynb\" target=\"_parent\"><img src=\"https://colab.research.google.com/assets/colab-badge.svg\" alt=\"Open In Colab\"/></a>"
      ]
    },
    {
      "cell_type": "code",
      "execution_count": null,
      "metadata": {
        "id": "iDJGfgOE-gqa"
      },
      "outputs": [],
      "source": [
        "# Escribe un código para instalar la versión 3.7.1 de la biblioteca matplotlib.\n",
        "pip install matplotlib==3.7.1\n"
      ]
    },
    {
      "cell_type": "markdown",
      "source": [
        "# Uso de funciones"
      ],
      "metadata": {
        "id": "-C2vFMCrv3Eq"
      }
    },
    {
      "cell_type": "code",
      "source": [
        "def media(lista: list=[0]) -> float:\n",
        "  '''Función para calcular la media de notas pasadas por una lista\n",
        "\n",
        "  lista: list, default [0]\n",
        "    Lista con las notas para calcular la media\n",
        "  return: calculo: float\n",
        "    Media calculada\n",
        "  '''\n",
        "  calculo = sum(lista) / len(lista)\n",
        "  return calculo"
      ],
      "metadata": {
        "id": "Tu0T3JEhv7BI"
      },
      "execution_count": null,
      "outputs": []
    },
    {
      "cell_type": "code",
      "source": [
        "help(media)"
      ],
      "metadata": {
        "id": "wKrCBKutxVWo",
        "outputId": "b4376366-30d2-4e17-a561-d4757370ec5f",
        "colab": {
          "base_uri": "https://localhost:8080/"
        }
      },
      "execution_count": null,
      "outputs": [
        {
          "output_type": "stream",
          "name": "stdout",
          "text": [
            "Help on function media in module __main__:\n",
            "\n",
            "media(lista: list = [0]) -> float\n",
            "    Función para calcular la media de notas pasadas por una lista\n",
            "    \n",
            "    lista: list, default [0]\n",
            "      Lista con las notas para calcular la media\n",
            "    return: calculo: float\n",
            "      Media calculada\n",
            "\n"
          ]
        }
      ]
    },
    {
      "cell_type": "markdown",
      "source": [
        "Crea un programa que genere aleatoriamente un número entero menor que 100."
      ],
      "metadata": {
        "id": "Uf9UPAHYQGRO"
      }
    },
    {
      "cell_type": "code",
      "source": [
        "import numpy as np\n",
        "\n",
        "random_num_other = np.random.randint(1,100)\n",
        "print(random_num_other)"
      ],
      "metadata": {
        "colab": {
          "base_uri": "https://localhost:8080/"
        },
        "id": "kN5DgK3wQId1",
        "outputId": "ecbecda3-5fc1-4f9e-f171-723601398eae"
      },
      "execution_count": null,
      "outputs": [
        {
          "output_type": "stream",
          "name": "stdout",
          "text": [
            "74\n"
          ]
        }
      ]
    },
    {
      "cell_type": "markdown",
      "source": [
        "Crea un programa que solicite a la persona usuaria ingresar dos números enteros y calcule la potencia del primer número elevado al segundo."
      ],
      "metadata": {
        "id": "QhTOAH9jP9zG"
      }
    },
    {
      "cell_type": "code",
      "source": [
        "user_num1 = int(input(\"Enter 1st number: \"))\n",
        "user_num2 = int(input(\"Enter 2nd number: \"))\n",
        "\n",
        "result = pow(user_num1,user_num2)\n",
        "print(f\"Result: {result}\")"
      ],
      "metadata": {
        "colab": {
          "base_uri": "https://localhost:8080/"
        },
        "id": "Fwvt4_G-P_P2",
        "outputId": "d9fa68f7-1abe-41a5-eb3f-2bf8d6bbe2a0"
      },
      "execution_count": null,
      "outputs": [
        {
          "output_type": "stream",
          "name": "stdout",
          "text": [
            "Enter 1st number: 5\n",
            "Enter 2nd number: 8\n",
            "Result: 390625\n"
          ]
        }
      ]
    },
    {
      "cell_type": "code",
      "source": [
        "\"\"\"Escribe un código que lee la lista siguiente y realiza:\n",
        "lista = [16, 14, 63, 65, 17, 99, 70, 11, 20, 48, 79, 32, 17, 89, 12, 25, 66]\n",
        "\n",
        "# 1. Leer el tamaño de la lista\n",
        "# 2. Leer el valor máximo y mínimo\n",
        "# 3. Calcular la suma de los valores de la lista\n",
        "# 4. Mostrar un mensaje al final: La lista tiene `tamano` números, donde el mayor\n",
        "# es `mayor` y el menor es `menor`. La suma de los valores es `suma`.\n",
        "\"\"\"\n",
        "\n",
        "lista = [16, 14, 63, 65, 17, 99, 70, 11, 20, 48, 79, 32, 17, 89, 12, 25, 66]\n",
        "\n",
        "list_length = len(lista)\n",
        "max_num = max(lista)\n",
        "min_num = min(lista)\n",
        "list_sum = sum(lista)\n",
        "\n",
        "def shown_outcome():\n",
        "  print(f\"Cantidad de valores: {list_length}\")\n",
        "  print(f\"Numero mayor: {max_num}\")\n",
        "  print(f\"Numero menor: {min_num}\")\n",
        "  print(f\"Suma: {list_sum}\")\n",
        "  print(f\"La lista tiene {list_length} números, donde el mayor es {max_num} y \" +\n",
        "  f\"el menor es {min_num}. La suma de los valores es {list_sum}.\")\n",
        "\n",
        "\n",
        "\n",
        "shown_outcome()\n",
        "\n"
      ],
      "metadata": {
        "colab": {
          "base_uri": "https://localhost:8080/"
        },
        "id": "OUc_GlAjUCck",
        "outputId": "7f36e746-dc6c-43cd-944c-49ff19f7b61a"
      },
      "execution_count": null,
      "outputs": [
        {
          "output_type": "stream",
          "name": "stdout",
          "text": [
            "Cantidad de valores: 17\n",
            "Numero mayor: 99\n",
            "Numero menor: 11\n",
            "Suma: 743\n",
            "La lista tiene 17 números, donde el mayor es 99 y el menor es 11. La suma de los valores es 743.\n"
          ]
        }
      ]
    },
    {
      "cell_type": "code",
      "source": [
        "\"\"\" Escribe una función que genere la tabla de multiplicar de un número entero\n",
        "del 1 al 10, según la elección del usuario. Como ejemplo, para el número 7,\n",
        "la tabla de multiplicar se debe mostrar en el siguiente formato:\n",
        "\n",
        "# Tabla del  7:\n",
        "# 7 x 0 = 0\n",
        "# 7 x 1 = 7\n",
        "# [...]\n",
        "# 7 x 10 = 70\n",
        "\"\"\"\n",
        "\n",
        "user_num = int(input(\"Enter any number: \"))\n",
        "\n",
        "def multiply(user_num):\n",
        "  for n in range(1,11):\n",
        "    product = user_num * n\n",
        "    print(f\"{user_num} x {n} = {product} \")\n",
        "\n",
        "multiply(user_num)\n"
      ],
      "metadata": {
        "id": "_tlU3cxyc2Ne",
        "colab": {
          "base_uri": "https://localhost:8080/"
        },
        "outputId": "459bac63-cf31-4faa-a2c1-d6e7cc133aad"
      },
      "execution_count": null,
      "outputs": [
        {
          "output_type": "stream",
          "name": "stdout",
          "text": [
            "Enter any number: 5\n",
            "5 x 1 = 5 \n",
            "5 x 2 = 10 \n",
            "5 x 3 = 15 \n",
            "5 x 4 = 20 \n",
            "5 x 5 = 25 \n",
            "5 x 6 = 30 \n",
            "5 x 7 = 35 \n",
            "5 x 8 = 40 \n",
            "5 x 9 = 45 \n",
            "5 x 10 = 50 \n"
          ]
        }
      ]
    },
    {
      "cell_type": "code",
      "source": [
        "\"\"\"Crea una función que lea la siguiente lista y devuelva una nueva lista con\n",
        "los múltiplos de 3:\n",
        "\n",
        "[97, 80, 94, 88, 80, 1, 16, 53, 62, 32, 24, 99]\n",
        "\"\"\"\n",
        "\n",
        "numbers = [97, 80, 94, 88, 80, 1, 16, 53, 62, 32, 24, 99]\n",
        "new_numbers = []\n",
        "\n",
        "def multiple(numbers):\n",
        "  for number in numbers:\n",
        "    if number % 3 == 0:\n",
        "      new_numbers.append(number)\n",
        "  print(f\"Multiples of 3: {new_numbers}\")\n",
        "\n",
        "multiple(numbers)\n"
      ],
      "metadata": {
        "colab": {
          "base_uri": "https://localhost:8080/"
        },
        "id": "h8efm-2Wi8tp",
        "outputId": "040599fa-8326-4f42-863f-cd3959344816"
      },
      "execution_count": null,
      "outputs": [
        {
          "output_type": "stream",
          "name": "stdout",
          "text": [
            "Multiples of 3: [24, 99]\n"
          ]
        }
      ]
    },
    {
      "cell_type": "code",
      "source": [
        "\"\"\" Crea una lista de los cuadrados de los números de la siguiente lista\n",
        " [1, 2, 3, 4, 5, 6, 7, 8, 9, 10].\n",
        " Recuerda utilizar las funciones lambda y map() para calcular el cuadrado\n",
        " de cada elemento de la lista.\n",
        "\"\"\"\n",
        "\n",
        "numeros_consecutivos= [1, 2, 3, 4, 5, 6, 7, 8, 9, 10]\n",
        "\n",
        "def square(n):\n",
        "  square_root2 = list(map(lambda x: pow(x,2),numeros_consecutivos))\n",
        "  print(f\"Cuadrados: {square_root2}\")\n",
        "\n",
        "square(numeros_consecutivos)\n"
      ],
      "metadata": {
        "colab": {
          "base_uri": "https://localhost:8080/"
        },
        "id": "88jN6FiMmUR6",
        "outputId": "0bd51c78-7f27-4653-9f13-80ff2b456fb8"
      },
      "execution_count": null,
      "outputs": [
        {
          "output_type": "stream",
          "name": "stdout",
          "text": [
            "Cuadrados: [1, 4, 9, 16, 25, 36, 49, 64, 81, 100]\n"
          ]
        }
      ]
    },
    {
      "cell_type": "markdown",
      "source": [
        "# Proyectos"
      ],
      "metadata": {
        "id": "8TrIhsDxSsda"
      }
    },
    {
      "cell_type": "markdown",
      "source": [
        "6 - Se debe escribir un programa para sortear a un seguidor de una red social para ganar un premio. **La lista de participantes está numerada y debemos elegir aleatoriamente un número según la cantidad de participantes.** Pide a la persona usuaria que proporcione el número de participantes del sorteo y devuelve el número sorteado."
      ],
      "metadata": {
        "id": "l-dKIM3TSx7o"
      }
    },
    {
      "cell_type": "code",
      "source": [
        "import numpy as np\n",
        "\n",
        "\n",
        "participants_num = int(input(\"How many participants will be?: \"))\n",
        "\n",
        "chosen_one = np.random.randint(1, participants_num)\n",
        "print(f\"Chosen one: {chosen_one}\")"
      ],
      "metadata": {
        "colab": {
          "base_uri": "https://localhost:8080/"
        },
        "id": "J7EwZBnCSzdg",
        "outputId": "c0443bd1-7064-44eb-8c7d-670890f863d4"
      },
      "execution_count": null,
      "outputs": [
        {
          "output_type": "stream",
          "name": "stdout",
          "text": [
            "How many participants will be?: 251\n",
            "Chosen one: 241\n"
          ]
        }
      ]
    },
    {
      "cell_type": "markdown",
      "source": [
        "7 - Has recibido una solicitud para generar números de token para acceder a la aplicación de una empresa. El token debe ser par y variar de 1000 a 9998. Escribe un código que solicite el nombre de la persona usuaria y muestre un mensaje junto a este token generado aleatoriamente.\n",
        "\n",
        "print(f\"Hola, {nombre_usuario}, tu token de acceso es {token_generado} ¡Bienvenido/a!\")"
      ],
      "metadata": {
        "id": "wiGLx-RiaxlG"
      }
    },
    {
      "cell_type": "code",
      "source": [
        "import numpy as np\n",
        "\n",
        "user_name = input(\"Enter your name: \")\n",
        "token = np.random.randint(500,4999)*2\n",
        "\n",
        "print(f\"Hola, {user_name}, tu token de acceso es {token} ¡Bienvenido/a!\")"
      ],
      "metadata": {
        "colab": {
          "base_uri": "https://localhost:8080/"
        },
        "id": "EvbsGnNqa21r",
        "outputId": "98c74616-b0be-412a-85ad-888393e45444"
      },
      "execution_count": null,
      "outputs": [
        {
          "output_type": "stream",
          "name": "stdout",
          "text": [
            "Enter your name: Diego\n",
            "Hola, Diego, tu token de acceso es 8386 ¡Bienvenido/a!\n"
          ]
        }
      ]
    },
    {
      "cell_type": "markdown",
      "source": [
        "8 - Para diversificar y atraer nuevos clientes, una lanchonete creó un ítem misterioso en su menú llamado \"ensalada de frutas sorpresa\". En este ítem, se eligen aleatoriamente 3 frutas de una lista de 12 para componer la ensalada de frutas del cliente. Crea el código que realice esta selección aleatoria según la lista dada."
      ],
      "metadata": {
        "id": "Yvl0Ewh9Hwp-"
      }
    },
    {
      "cell_type": "code",
      "source": [
        "import random as rd\n",
        "\n",
        "frutas = [\n",
        "    \"manzana\", \"banana\", \"uva\", \"pera\", \"mango\", \"coco\", \"sandia\",\n",
        "    \"fresa\", \"naranja\", \"maracuya\", \"kiwi\", \"cereza\"\n",
        "    ]\n",
        "\n",
        "surprise_salad = rd.sample(frutas,3)\n",
        "print(f\"Secret salad: {surprise_salad}\")\n"
      ],
      "metadata": {
        "colab": {
          "base_uri": "https://localhost:8080/"
        },
        "id": "H12NCxYlH1kW",
        "outputId": "182beac6-84af-4c82-aada-a5c20790c606"
      },
      "execution_count": null,
      "outputs": [
        {
          "output_type": "stream",
          "name": "stdout",
          "text": [
            "Secret salad: ['uva', 'banana', 'coco']\n"
          ]
        }
      ]
    },
    {
      "cell_type": "markdown",
      "source": [
        "9 - Has recibido un desafío para calcular la raíz cuadrada de una lista de números, identificando cuáles resultan en un número entero.\n",
        "La lista es la siguiente:"
      ],
      "metadata": {
        "id": "ZzKHKPBKLTAy"
      }
    },
    {
      "cell_type": "code",
      "source": [
        "numeros = [2, 8, 15, 23, 91, 112, 256]\n",
        "\n",
        "for numero in numeros:\n",
        "  square_root = pow(numero,1/2)\n",
        "  if numero % square_root == 0:\n",
        "    print(f\"{numero} * 1/2 = {square_root}\")\n",
        "  else:\n",
        "    print(f\"Number not entire: {numero}\")"
      ],
      "metadata": {
        "colab": {
          "base_uri": "https://localhost:8080/"
        },
        "id": "8ULQLig_LirQ",
        "outputId": "f073dfad-abc9-424b-ec69-e33bf7c16548"
      },
      "execution_count": null,
      "outputs": [
        {
          "output_type": "stream",
          "name": "stdout",
          "text": [
            "Number not entire: 2\n",
            "Number not entire: 8\n",
            "Number not entire: 15\n",
            "Number not entire: 23\n",
            "Number not entire: 91\n",
            "Number not entire: 112\n",
            "256 * 1/2 = 16.0\n"
          ]
        }
      ]
    },
    {
      "cell_type": "markdown",
      "source": [
        "10 - Haz un programa para una tienda que vende césped para jardines. Esta tienda trabaja con jardines circulares y el precio del metro cuadrado de césped es de R$ 25,00. Pide a la persona usuaria el radio del área circular y devuelve el valor en reales de cuánto tendrá que pagar."
      ],
      "metadata": {
        "id": "icuukSrNNlC0"
      }
    },
    {
      "cell_type": "code",
      "source": [
        "from math import pi\n",
        "\n",
        "radio = int(input(\"Introduce radio: \"))\n",
        "area = pi * (radio ** 2) # Circle area\n",
        "service = area * 25\n",
        "\n",
        "print(f\"Total price: R$ {service:.2f}\")\n",
        "\n"
      ],
      "metadata": {
        "colab": {
          "base_uri": "https://localhost:8080/"
        },
        "id": "3tOghiLFNmBV",
        "outputId": "9044c287-e15b-42ae-a2dc-0f6558fe4ff6"
      },
      "execution_count": null,
      "outputs": [
        {
          "output_type": "stream",
          "name": "stdout",
          "text": [
            "Introduce radio: 5\n",
            "Total price: R$ 1963.50\n"
          ]
        }
      ]
    },
    {
      "cell_type": "code",
      "source": [
        "\"\"\"Has sido contratado como científico(a) de datos de una asociación de skate.\n",
        "Para analizar las notas recibidas por los skaters en algunas competiciones a lo\n",
        "largo del año, necesitas crear un código que calcule la puntuación de los\n",
        "atletas. Para ello, tu código debe recibir 5 notas\"\"\"\n",
        "\n",
        "notas = []\n",
        "\n",
        "for n in range(1,6):\n",
        "  nota = int(input(f\"Ingresar nota Nro. {n}: \"))\n",
        "  notas.append(nota)\n",
        "\n",
        "promedio = sum(notas)/len(notas)\n",
        "print(f\"Promedio: {promedio}\")"
      ],
      "metadata": {
        "id": "LJ6fI89PF1OD",
        "colab": {
          "base_uri": "https://localhost:8080/"
        },
        "outputId": "0ed56aed-facd-4b1b-d587-49f2db3cc352"
      },
      "execution_count": null,
      "outputs": [
        {
          "output_type": "stream",
          "name": "stdout",
          "text": [
            "Ingresar nota Nro. 1: 9\n",
            "Ingresar nota Nro. 2: 0\n",
            "Ingresar nota Nro. 3: 9\n",
            "Ingresar nota Nro. 4: 9\n",
            "Ingresar nota Nro. 5: 8\n",
            "Promedio: 7.0\n"
          ]
        }
      ]
    },
    {
      "cell_type": "code",
      "source": [
        "\"\"\"Para cumplir con una demanda de una institución educativa para el\n",
        "análisis del rendimiento de sus estudiantes, necesitas crear una función que\n",
        "reciba una lista de 4 notas y devuelva\n",
        "\n",
        "# mayor nota\n",
        "# menor nota\n",
        "# media\n",
        "# situación (Aprobado(a) o Reprobado(a))\n",
        "# Uso de la función\n",
        "\n",
        "# Mostrar: El estudiante obtuvo una media de `media`, con la mayor nota\n",
        "de `mayor` puntos y la menor nota de `menor` puntos y fue `situacion`.)\"\"\"\n",
        "\n",
        "from typing import Optional, List\n",
        "\n",
        "def estudiante(notas: Optional[List[int]] = None) -> None:\n",
        "    \"\"\"\n",
        "    Calcula e imprime la media, la nota mayor, la nota menor y\n",
        "    la situación final del estudiante (aprobado o desaprobado).\n",
        "\n",
        "    Parameters\n",
        "    ----------\n",
        "    notas : Optional[List[int]], default None\n",
        "        Lista de 4 notas del estudiante. Si no se proporciona,\n",
        "        se pedirán por consola.\n",
        "\n",
        "    Returns\n",
        "    -------\n",
        "    None\n",
        "        Esta función solo imprime los resultados, no devuelve ningún valor.\n",
        "    \"\"\"\n",
        "    if notas is None:\n",
        "        notas = []\n",
        "        for n in range(1, 5):\n",
        "            nota = int(input(f\"Ingresar nota nro. {n}: \"))\n",
        "            notas.append(nota)\n",
        "\n",
        "    mayor = max(notas)\n",
        "    menor = min(notas)\n",
        "    media = sum(notas) / len(notas)\n",
        "\n",
        "    situacion = 'aprobado' if media > 10 else 'desaprobado'\n",
        "\n",
        "    print(f\"\\nEl estudiante obtuvo una media de {media}, con la mayor nota\"\n",
        "          f\" de {mayor} puntos, la menor nota de {menor} puntos y fue {situacion}\")\n",
        "\n",
        "\n",
        "estudiante()\n",
        "help(estudiante)\n",
        "\n",
        "\n"
      ],
      "metadata": {
        "id": "6As5XUbxBQxO"
      },
      "execution_count": null,
      "outputs": []
    },
    {
      "cell_type": "code",
      "source": [
        "# Opcion 2. devolviendo valores\n",
        "from typing import Optional, List, Dict, Union\n",
        "\n",
        "def estudiante(notas: Optional[List[int]] = None) -> Dict[str, Union[float, int, str]]:\n",
        "    \"\"\"\n",
        "    Calcula y devuelve un resumen de notas de un estudiante:\n",
        "    media, nota mayor, nota menor y situación (aprobado/desaprobado).\n",
        "\n",
        "    Parameters\n",
        "    ----------\n",
        "    notas : Optional[List[int]], default None\n",
        "        Lista de 4 notas del estudiante. Si no se proporciona,\n",
        "        se pedirán por consola.\n",
        "\n",
        "    Returns\n",
        "    -------\n",
        "    Dict[str, Union[float, int, str]]\n",
        "        Diccionario con las claves: 'media', 'mayor', 'menor', 'situacion'.\n",
        "    \"\"\"\n",
        "    if notas is None:\n",
        "        notas = []\n",
        "        for n in range(1, 5):\n",
        "            nota = int(input(f\"Ingresar nota nro. {n}: \"))\n",
        "            notas.append(nota)\n",
        "\n",
        "    mayor = max(notas)\n",
        "    menor = min(notas)\n",
        "    media = sum(notas) / len(notas)\n",
        "\n",
        "    situacion = 'aprobado' if media > 10 else 'desaprobado'\n",
        "\n",
        "    return {\n",
        "        'media': media,\n",
        "        'mayor': mayor,\n",
        "        'menor': menor,\n",
        "        'situacion': situacion\n",
        "    }\n",
        "\n",
        "resultado = estudiante()\n",
        "print(resultado)\n"
      ],
      "metadata": {
        "colab": {
          "base_uri": "https://localhost:8080/"
        },
        "id": "yd7LGGgIYKG_",
        "outputId": "0402a9d0-1c22-4f67-b687-3fef38d5d492"
      },
      "execution_count": null,
      "outputs": [
        {
          "output_type": "stream",
          "name": "stdout",
          "text": [
            "Ingresar nota nro. 1: 1\n",
            "Ingresar nota nro. 2: 2\n",
            "Ingresar nota nro. 3: 12\n",
            "Ingresar nota nro. 4: 20\n",
            "{'media': 8.75, 'mayor': 20, 'menor': 1, 'situacion': 'desaprobado'}\n"
          ]
        }
      ]
    },
    {
      "cell_type": "code",
      "source": [
        "from re import X\n",
        "\"\"\"Has recibido una demanda para tratar 2 listas con los nombres y apellidos\n",
        "de cada estudiante concatenándolos para presentar sus nombres completos en la\n",
        "forma Nombre Apellido. Las listas son:\n",
        "\n",
        "nombres = [\"juan\", \"MaRia\", \"JOSÉ\"]\n",
        "apellidos = [\"SILVA\", \"sosa\", \"Tavares\"]\n",
        "\n",
        "# Normalizar nombres y apellidos y crear una nueva lista con los nombres\n",
        "completos\n",
        "# Puedes apoyarte en la función map()\n",
        "\n",
        "\"\"\"\n",
        "\n",
        "nombres = [\"juan\", \"MaRia\", \"JOSÉ\"]\n",
        "apellidos = [\"SILVA\", \"sosa\", \"Tavares\"]\n",
        "\n",
        "name_corrected = list(map(lambda x:x.lower(), nombres))\n",
        "surname_corrected = list(map(lambda y:y.lower(), apellidos))\n",
        "\n",
        "completo = [name + \" \" + surname for name,surname in zip(name_corrected,surname_corrected) ]\n",
        "print(completo)"
      ],
      "metadata": {
        "colab": {
          "base_uri": "https://localhost:8080/"
        },
        "id": "N2k4A9quZu8M",
        "outputId": "ae1f1c6f-ff0e-4045-ab94-cb604c18d2e6"
      },
      "execution_count": null,
      "outputs": [
        {
          "output_type": "stream",
          "name": "stdout",
          "text": [
            "['juan silva', 'maria sosa', 'josé tavares']\n"
          ]
        }
      ]
    },
    {
      "cell_type": "code",
      "source": [
        "\"\"\"\n",
        "Como científico de datos en un equipo de fútbol, necesitas implementar nuevas\n",
        "formas de recopilación de datos sobre el rendimiento de los jugadores y del\n",
        "equipo en su conjunto. Tu primera acción es crear una forma de calcular la\n",
        "puntuación del equipo en el campeonato nacional a partir de los datos de goles\n",
        "marcados y recibidos en cada juego.\n",
        "\n",
        "Escribe una función llamada calcula_puntos() que recibe como parámetros\n",
        "dos listas de números enteros, representando los goles marcados y recibidos\n",
        "por el equipo en cada partido del campeonato. La función debe devolver la\n",
        "puntuación del equipo y el rendimiento en porcentaje, teniendo en cuenta que\n",
        "la victoria vale 3 puntos, el empate 1 punto y la derrota 0 puntos.\n",
        "\n",
        "Nota: si la cantidad de goles marcados en un partido es mayor que los\n",
        "recibidos, el equipo ganó. En caso de ser igual, el equipo empató, y si es\n",
        "menor, el equipo perdió. Para calcular el rendimiento, debemos hacer la razón\n",
        "entre la puntuación del equipo y la puntuación máxima que podría recibir.\n",
        "\n",
        "Para la prueba, utiliza las siguientes listas de goles marcados y recibidos:\n",
        "\n",
        "goles_marcados = [2, 1, 3, 1, 0]\n",
        "goles_recibidos = [1, 2, 2, 1, 3]\n",
        "# Texto probablemente mostrado:\n",
        "# La puntuación del equipo fue `puntos` y su rendimiento fue `desempeno`%\"\n",
        "\"\"\"\n",
        "from typing import List, Dict\n",
        "\n",
        "\n",
        "def calcula_puntos(a: List[int],b: List[int]) -> Dict[str, float | int | List[int]]:\n",
        "\n",
        "  estado = []\n",
        "\n",
        "  for i in range(0,len(a)):\n",
        "    if a[i] > b[i]:\n",
        "      condicion = 'partido ganado'\n",
        "      puntaje = 3\n",
        "      estado.append(puntaje)\n",
        "    elif a[i] < b[i]:\n",
        "      condicion = 'partido perdido'\n",
        "      puntaje = 0\n",
        "      estado.append(puntaje)\n",
        "    elif a[i] == b[i]:\n",
        "      condicion = 'partido empatado'\n",
        "      puntaje = 1\n",
        "      estado.append(puntaje)\n",
        "\n",
        "  suma_puntaje = sum(estado)\n",
        "  maximo_puntaje_posible = len(a)*3\n",
        "  rendimiento = (suma_puntaje / maximo_puntaje_posible)*100\n",
        "\n",
        "  return {\n",
        "  'Resultados': estado,\n",
        "  'Puntaje total': suma_puntaje,\n",
        "  'Rendimiento': rendimiento\n",
        "  }\n",
        "\n",
        "# Prueba\n",
        "goles_marcados = [2, 1, 3, 1, 0]\n",
        "goles_recibidos = [1, 2, 2, 1, 3]\n",
        "\n",
        "\n",
        "respuesta = calcula_puntos(goles_marcados,goles_recibidos)\n",
        "\n",
        "for clave, valor in respuesta.items():\n",
        "  if clave == 'Rendimiento':\n",
        "    print(f\"{clave} : {valor:.2f} %\")\n",
        "  else:\n",
        "    print(f\"{clave} : {valor}\")\n"
      ],
      "metadata": {
        "colab": {
          "base_uri": "https://localhost:8080/"
        },
        "id": "L196NyZcqe0G",
        "outputId": "0fbcf097-5f61-41aa-9d76-744c8d916083"
      },
      "execution_count": null,
      "outputs": [
        {
          "output_type": "stream",
          "name": "stdout",
          "text": [
            "Resultados : [3, 0, 3, 1, 0]\n",
            "Puntaje total : 7\n",
            "Rendimiento : 46.67 %\n"
          ]
        }
      ]
    },
    {
      "cell_type": "code",
      "source": [
        "\"\"\"Te han desafiado a crear un código que calcule los gastos de un viaje a una\n",
        "de las cuatro ciudades desde Recife, siendo ellas: Salvador, Fortaleza, Natal\n",
        "y Aracaju.\n",
        "El costo diario del hotel es de 150 reales en todas ellas y el consumo de\n",
        "gasolina en el viaje en coche es de 14 km/l, siendo que el precio de la\n",
        "gasolina es de 5 reales por litro. Los gastos con paseos y alimentación a\n",
        "realizar en cada una de ellas por día serían [200, 400, 250, 300],\n",
        "respectivamente.\n",
        "\n",
        "Sabiendo que las distancias entre Recife y cada una de las ciudades son\n",
        "aproximadamente [850, 800, 300, 550] km, crea tres funciones: la primera\n",
        "función calcula los gastos de hotel (gasto_hotel), la segunda calcula los gastos\n",
        " de gasolina (gasto_gasolina) y la tercera los gastos de paseo y\n",
        " alimentación (gasto_paseo).\n",
        "\n",
        "Para probar, simula un viaje de 3 días a Salvador desde Recife. Considera el\n",
        "viaje de ida y vuelta en coche.\n",
        "\n",
        "# Texto probablemente mostrado:\n",
        "# Con base en los gastos definidos, un viaje de [dias] días a [ciudad] desde\n",
        "# Recife costaría [gastos] reales.\n",
        "\"\"\"\n",
        "\n",
        "# Variables aportadas\n",
        "gasolina = 5 # Reales/litro\n",
        "hotel = 150 # Reales/dia\n",
        "distancia = 14 # km/litro\n",
        "dias = int(input(\"¿Cuantos dias va a quedarse en la ciudad?: \"))\n",
        "posicion = int(input(\"¿A que ciudad va a viajar? \\n 0. Salvador \\t 2. Natal \\n 1. Fortaleza  \\t 3. Araceju \\n\"))\n",
        "\n",
        "# Listas\n",
        "paseo = [200, 400, 250, 300] # gasto diario\n",
        "distancias = [850, 800, 300, 550] # km\n",
        "ciudades = ['Salvador', 'Fortaleza', 'Natal', 'Aracaju']\n",
        "destino = ciudades[posicion]\n",
        "\n",
        "# Funciones\n",
        "def gasto_hotel(d): # cantidad de dias\n",
        "  return 150 * d\n",
        "\n",
        "def gasto_gasolina(p): # posicion de la ciudad\n",
        "  return (distancias[p] / distancia) * gasolina *2\n",
        "\n",
        "def gasto_paseo(p): # posicion de la ciudad\n",
        "  return paseo[p] * dias\n",
        "\n",
        "def todas_funciones():\n",
        "  gasto_hotel(dias)\n",
        "  gasto_gasolina(posicion)\n",
        "  gasto_paseo(posicion)\n",
        "\n",
        "# Variables generadas\n",
        "sub_gasto_hotel = gasto_hotel(dias)\n",
        "sub_gasto_gasolina = gasto_gasolina(posicion)\n",
        "sub_gasto_paseo = gasto_paseo(posicion)\n",
        "\n",
        "gasto_total = sub_gasto_hotel + sub_gasto_gasolina + sub_gasto_paseo\n",
        "\n",
        "print(\"RESULTADOS\")\n",
        "print(f\"Con base en los gastos definidos, un viaje de {dias} dias a {destino} desde Recife costaría {gasto_total:.2f} reales.\")\n",
        "\n",
        "\n"
      ],
      "metadata": {
        "id": "gHL3JwWc3c2S",
        "colab": {
          "base_uri": "https://localhost:8080/"
        },
        "outputId": "0f8ba056-949d-456b-d95e-d30d73e5bb60"
      },
      "execution_count": 22,
      "outputs": [
        {
          "output_type": "stream",
          "name": "stdout",
          "text": [
            "¿Cuantos dias va a quedarse en la ciudad?: 2\n",
            "¿A que ciudad va a viajar? \n",
            " 0. Salvador \t 2. Natal \n",
            " 1. Fortaleza  \t 3. Araceju \n",
            "1\n",
            "RESULTADOS\n",
            "Con base en los gastos definidos, un viaje de 2 dias a Fortaleza desde Recife costaría 1671.43 reales.\n"
          ]
        }
      ]
    }
  ]
}